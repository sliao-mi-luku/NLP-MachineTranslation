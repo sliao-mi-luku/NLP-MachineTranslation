{
  "nbformat": 4,
  "nbformat_minor": 0,
  "metadata": {
    "colab": {
      "name": "EncoderDecoder_English_French_translator_colab.ipynb",
      "provenance": [],
      "collapsed_sections": []
    },
    "kernelspec": {
      "name": "python3",
      "display_name": "Python 3"
    },
    "accelerator": "GPU"
  },
  "cells": [
    {
      "cell_type": "markdown",
      "metadata": {
        "id": "9VLYa2a4FOtx"
      },
      "source": [
        "# English-to-French translation by Encoder-Decoder"
      ]
    },
    {
      "cell_type": "markdown",
      "metadata": {
        "id": "5oNmk3EBz6ld"
      },
      "source": [
        "In this notebook, I used the Encoder-Decoder architecture to translate the English sentences into French.\n",
        "\n",
        "---\n",
        "**The dataset**\n",
        "\n",
        "This notebook uses the dataset provided by [Udacity's NLP Nanodegree Course](https://www.udacity.com/course/natural-language-processing-nanodegree--nd892). The dataset is a subset extracted from the [WMT](http://www.statmt.org/) dataset. It contains 137,861 English sentences and their translations in French.\n",
        "\n",
        "To run this notebook, simply upload the training data onto the Google Colab workspace (assuming that you have those files). If you don't have the files I used, you can upload your own dataset (even in different languages), and rewrite your data preprocessing codes.\n",
        "\n",
        "---\n",
        "**Computing resource**\n",
        "\n",
        "This notebook was run on Google Colab"
      ]
    },
    {
      "cell_type": "markdown",
      "metadata": {
        "id": "O18iLAeDxM7E"
      },
      "source": [
        "# Import libraries"
      ]
    },
    {
      "cell_type": "code",
      "metadata": {
        "id": "rLOu2cx5yLrR",
        "outputId": "bc2b10e0-87bc-4910-d436-a66a7dda5504",
        "colab": {
          "base_uri": "https://localhost:8080/"
        }
      },
      "source": [
        "%matplotlib inline\n",
        "\n",
        "import os\n",
        "\n",
        "import numpy as np\n",
        "\n",
        "import tensorflow as tf\n",
        "import tensorflow_datasets as tfds\n",
        "\n",
        "from tensorflow.keras.preprocessing.text import Tokenizer\n",
        "from tensorflow.keras.preprocessing.sequence import pad_sequences\n",
        "from tensorflow.keras.models import Model\n",
        "from tensorflow.keras.layers import Embedding, LSTM, GRU, Input, Dense, TimeDistributed, Activation\n",
        "from tensorflow.keras.layers import RepeatVector, Bidirectional, Attention, Concatenate, Dot\n",
        "from tensorflow.keras.optimizers import Adam\n",
        "from tensorflow.keras.losses import sparse_categorical_crossentropy\n",
        "\n",
        "import matplotlib.pyplot as plt\n",
        "\n",
        "\n",
        "\"\"\"\n",
        "The code below is used to confirm that we're using GPU\n",
        "\"\"\"\n",
        "\n",
        "print(tf.__version__)\n",
        "device_name = tf.test.gpu_device_name()\n",
        "if device_name != '/device:GPU:0':\n",
        "  raise SystemError('GPU device not found')\n",
        "print('Found GPU at: {}'.format(device_name))\n",
        "\n",
        "print(\"\\n\")\n",
        "\n",
        "gpu_info = !nvidia-smi\n",
        "gpu_info = '\\n'.join(gpu_info)\n",
        "if gpu_info.find('failed') >= 0:\n",
        "  print('Select the Runtime > \"Change runtime type\" menu to enable a GPU accelerator, ')\n",
        "  print('and then re-execute this cell.')\n",
        "else:\n",
        "  print(gpu_info)"
      ],
      "execution_count": 1,
      "outputs": [
        {
          "output_type": "stream",
          "text": [
            "2.3.0\n",
            "Found GPU at: /device:GPU:0\n",
            "\n",
            "\n",
            "Sat Oct 31 18:06:49 2020       \n",
            "+-----------------------------------------------------------------------------+\n",
            "| NVIDIA-SMI 455.32.00    Driver Version: 418.67       CUDA Version: 10.1     |\n",
            "|-------------------------------+----------------------+----------------------+\n",
            "| GPU  Name        Persistence-M| Bus-Id        Disp.A | Volatile Uncorr. ECC |\n",
            "| Fan  Temp  Perf  Pwr:Usage/Cap|         Memory-Usage | GPU-Util  Compute M. |\n",
            "|                               |                      |               MIG M. |\n",
            "|===============================+======================+======================|\n",
            "|   0  Tesla V100-SXM2...  Off  | 00000000:00:04.0 Off |                    0 |\n",
            "| N/A   34C    P0    38W / 300W |    433MiB / 16130MiB |      2%      Default |\n",
            "|                               |                      |                 ERR! |\n",
            "+-------------------------------+----------------------+----------------------+\n",
            "                                                                               \n",
            "+-----------------------------------------------------------------------------+\n",
            "| Processes:                                                                  |\n",
            "|  GPU   GI   CI        PID   Type   Process name                  GPU Memory |\n",
            "|        ID   ID                                                   Usage      |\n",
            "|=============================================================================|\n",
            "|  No running processes found                                                 |\n",
            "+-----------------------------------------------------------------------------+\n"
          ],
          "name": "stdout"
        }
      ]
    },
    {
      "cell_type": "markdown",
      "metadata": {
        "id": "wArW2zRGxpVN"
      },
      "source": [
        "# Load the dataset\n",
        "\n",
        "Load the dataset (it could be your own dataset) from the working directory"
      ]
    },
    {
      "cell_type": "code",
      "metadata": {
        "id": "YH4HztZsykpf"
      },
      "source": [
        "## Load English sentences\n",
        "with open('small_vocab_en', 'r') as f:\n",
        "    eng_raw_data = f.read()\n",
        "          \n",
        "english_sentences = eng_raw_data.split('\\n')\n",
        "\n",
        "## Load French sentences\n",
        "with open('small_vocab_fr', 'r') as f:\n",
        "    fr_raw_data = f.read()\n",
        "          \n",
        "french_sentences = fr_raw_data.split('\\n')"
      ],
      "execution_count": 2,
      "outputs": []
    },
    {
      "cell_type": "code",
      "metadata": {
        "id": "sj9FDrFSy-k7",
        "outputId": "a7263568-a4ae-47c4-8b33-662eea54d4a0",
        "colab": {
          "base_uri": "https://localhost:8080/"
        }
      },
      "source": [
        "## Display some info\n",
        "\n",
        "print(\"sentences in the English corpus: {}\".format(len(english_sentences)))\n",
        "print(\"sentences in the French corpus: {}\".format(len(french_sentences)))\n",
        "\n",
        "print(\"\\n\")\n",
        "\n",
        "print(\"first 3 English/French sentences:\\n\")\n",
        "\n",
        "for i in range(3):\n",
        "    print(english_sentences[i])\n",
        "    print(french_sentences[i])\n",
        "    print(\"\\n\")"
      ],
      "execution_count": 3,
      "outputs": [
        {
          "output_type": "stream",
          "text": [
            "sentences in the English corpus: 137861\n",
            "sentences in the French corpus: 137861\n",
            "\n",
            "\n",
            "first 3 English/French sentences:\n",
            "\n",
            "new jersey is sometimes quiet during autumn , and it is snowy in april .\n",
            "new jersey est parfois calme pendant l' automne , et il est neigeux en avril .\n",
            "\n",
            "\n",
            "the united states is usually chilly during july , and it is usually freezing in november .\n",
            "les états-unis est généralement froid en juillet , et il gèle habituellement en novembre .\n",
            "\n",
            "\n",
            "california is usually quiet during march , and it is usually hot in june .\n",
            "california est généralement calme en mars , et il est généralement chaud en juin .\n",
            "\n",
            "\n"
          ],
          "name": "stdout"
        }
      ]
    },
    {
      "cell_type": "markdown",
      "metadata": {
        "id": "YNobNhzEyPEy"
      },
      "source": [
        "We use `collections.Counter` to count the distinct words in both languages, and use the `most_common()` method to see the most frequently used words"
      ]
    },
    {
      "cell_type": "code",
      "metadata": {
        "id": "CRyVV5I5y_T5",
        "outputId": "1b6b6677-3f17-412a-b898-93fd89117679",
        "colab": {
          "base_uri": "https://localhost:8080/"
        }
      },
      "source": [
        "from collections import Counter\n",
        "\n",
        "## Size of the English vocabulary\n",
        "english_corpus = [w for sentence in english_sentences for w in sentence.split()]\n",
        "english_vocab_counter = Counter(english_corpus)\n",
        "english_vocab_size = len(english_vocab_counter)\n",
        "\n",
        "print(\"Size of the English corpus: {}\".format(len(english_corpus)))\n",
        "print(\"Vocab size of English: {}\".format(english_vocab_size))\n",
        "print(\"10 most frequent English vocab: {}\".format([x[0] for x in english_vocab_counter.most_common(10)]))\n",
        "print(\"longest length of sentence: {}\".format(max(len(sentence.split()) for sentence in english_sentences)))\n",
        "print(\"\\n\")\n",
        "\n",
        "## Size of the French vocabulary\n",
        "french_corpus = [w for sentence in french_sentences for w in sentence.split()]\n",
        "french_vocab_counter = Counter(french_corpus)\n",
        "french_vocab_size = len(french_vocab_counter)\n",
        "\n",
        "print(\"Size of the French corpus: {}\".format(len(french_corpus)))\n",
        "print(\"Vocab size of French: {}\".format(french_vocab_size))\n",
        "print(\"10 most frequent French vocab: {}\".format([x[0] for x in french_vocab_counter.most_common(10)]))\n",
        "print(\"longest length of sentence: {}\".format(max(len(sentence.split()) for sentence in french_sentences)))"
      ],
      "execution_count": 4,
      "outputs": [
        {
          "output_type": "stream",
          "text": [
            "Size of the English corpus: 1823250\n",
            "Vocab size of English: 227\n",
            "10 most frequent English vocab: ['is', ',', '.', 'in', 'it', 'during', 'the', 'but', 'and', 'sometimes']\n",
            "longest length of sentence: 17\n",
            "\n",
            "\n",
            "Size of the French corpus: 1961295\n",
            "Vocab size of French: 355\n",
            "10 most frequent French vocab: ['est', '.', ',', 'en', 'il', 'les', 'mais', 'et', 'la', 'parfois']\n",
            "longest length of sentence: 23\n"
          ],
          "name": "stdout"
        }
      ]
    },
    {
      "cell_type": "markdown",
      "metadata": {
        "id": "XY0sGS8zh5zU"
      },
      "source": [
        "We see that the longest length of English sentences is 17, and the longest length of French sentences is 23"
      ]
    },
    {
      "cell_type": "markdown",
      "metadata": {
        "id": "fG8n87NYzS97"
      },
      "source": [
        "# Create training, validation, and test datasets\n",
        "\n",
        "We use `sklearn.model_selection.train_test_split` split the dataset (137,861 sentences) into:\n",
        "\n",
        "- training dataset of 120,000 sentences,\n",
        "\n",
        "- validation dataset of 7,861 sentences, and\n",
        "\n",
        "- test dataset of 10,000 sentences"
      ]
    },
    {
      "cell_type": "code",
      "metadata": {
        "id": "qDggExBWpFAP",
        "outputId": "a01cdffe-3c81-47d7-959f-1162ec757496",
        "colab": {
          "base_uri": "https://localhost:8080/"
        }
      },
      "source": [
        "## Split into 120000 training, 7861 validation, and 10000 test data\n",
        "\n",
        "from sklearn.model_selection import train_test_split\n",
        "\n",
        "# separate test data\n",
        "X_train_valid, X_test, Y_train_valid, Y_test = train_test_split(english_sentences, french_sentences, test_size = 10000, random_state = 1)\n",
        "\n",
        "# separate train and validation data\n",
        "X_train, X_valid, Y_train, Y_valid = train_test_split(X_train_valid, Y_train_valid, test_size = 7861, random_state = 1)\n",
        "\n",
        "# check sizes\n",
        "print(\"number of training data: {} / {}\".format(len(X_train), len(Y_train)))\n",
        "print(\"number of valid data: {} / {}\".format(len(X_valid), len(Y_valid)))\n",
        "print(\"number of test data: {} / {}\".format(len(X_test), len(Y_test)))\n"
      ],
      "execution_count": 5,
      "outputs": [
        {
          "output_type": "stream",
          "text": [
            "number of training data: 120000 / 120000\n",
            "number of valid data: 7861 / 7861\n",
            "number of test data: 10000 / 10000\n"
          ],
          "name": "stdout"
        }
      ]
    },
    {
      "cell_type": "markdown",
      "metadata": {
        "id": "HxeSECgUdweC"
      },
      "source": [
        "# Build TensorFlow input pipelines\n",
        "\n",
        "Use `tf.data.Dataset.from_tensor_slices` to convert the data into tensorflow dataset"
      ]
    },
    {
      "cell_type": "code",
      "metadata": {
        "id": "KPSZ0oGQd1oh",
        "outputId": "6000cb45-6108-418e-9225-81eb3d34e802",
        "colab": {
          "base_uri": "https://localhost:8080/"
        }
      },
      "source": [
        "train_dataset = tf.data.Dataset.from_tensor_slices((X_train, Y_train))\n",
        "\n",
        "next(iter(train_dataset))"
      ],
      "execution_count": 6,
      "outputs": [
        {
          "output_type": "execute_result",
          "data": {
            "text/plain": [
              "(<tf.Tensor: shape=(), dtype=string, numpy=b'california is usually hot during july , and it is never wet in april .'>,\n",
              " <tf.Tensor: shape=(), dtype=string, numpy=b'californie est g\\xc3\\xa9n\\xc3\\xa9ralement chaud en juillet , et il est jamais humide en avril .'>)"
            ]
          },
          "metadata": {
            "tags": []
          },
          "execution_count": 6
        }
      ]
    },
    {
      "cell_type": "code",
      "metadata": {
        "id": "BUsGicwR6hJD",
        "outputId": "60d07290-e627-4892-a961-0abbe4632313",
        "colab": {
          "base_uri": "https://localhost:8080/"
        }
      },
      "source": [
        "valid_dataset = tf.data.Dataset.from_tensor_slices((X_valid, Y_valid))\n",
        "\n",
        "next(iter(valid_dataset))"
      ],
      "execution_count": 7,
      "outputs": [
        {
          "output_type": "execute_result",
          "data": {
            "text/plain": [
              "(<tf.Tensor: shape=(), dtype=string, numpy=b'paris is dry during august , and it is usually beautiful in july .'>,\n",
              " <tf.Tensor: shape=(), dtype=string, numpy=b\"paris est sec au mois d' ao\\xc3\\xbbt , et il est g\\xc3\\xa9n\\xc3\\xa9ralement beau en juillet .\">)"
            ]
          },
          "metadata": {
            "tags": []
          },
          "execution_count": 7
        }
      ]
    },
    {
      "cell_type": "code",
      "metadata": {
        "id": "7AfJ3vNP6m5i",
        "outputId": "eeadaf19-4ca5-467b-d120-93d866eb360c",
        "colab": {
          "base_uri": "https://localhost:8080/"
        }
      },
      "source": [
        "test_dataset = tf.data.Dataset.from_tensor_slices((X_test, Y_test))\n",
        "\n",
        "next(iter(test_dataset))"
      ],
      "execution_count": 8,
      "outputs": [
        {
          "output_type": "execute_result",
          "data": {
            "text/plain": [
              "(<tf.Tensor: shape=(), dtype=string, numpy=b'california is sometimes warm during fall , and it is usually beautiful in april .'>,\n",
              " <tf.Tensor: shape=(), dtype=string, numpy=b\"californie est parfois chaud pendant l' automne , et il est g\\xc3\\xa9n\\xc3\\xa9ralement beau en avril .\">)"
            ]
          },
          "metadata": {
            "tags": []
          },
          "execution_count": 8
        }
      ]
    },
    {
      "cell_type": "markdown",
      "metadata": {
        "id": "yoxNnAtiGqTR"
      },
      "source": [
        "# Tokenize the words\n",
        "\n",
        "We use the method `build_from_corpus` of `tfds.deprecated.text.SubwordTextEncoder` to tokenize the English and French sentences\n",
        "\n",
        "The [SubwordTextEncoder](https://www.tensorflow.org/datasets/api_docs/python/tfds/deprecated/text/SubwordTextEncoder) can encode a word by its subwords if that word was not seen in its dictionaty.\n",
        "\n",
        "We specified the `vocab_size` so that the tokens wll give integers from [1, vocab_size)\n"
      ]
    },
    {
      "cell_type": "code",
      "metadata": {
        "id": "Fhy3L1TMzCgB"
      },
      "source": [
        "## Subword Tokenizer\n",
        "english_tokenizer = tfds.deprecated.text.SubwordTextEncoder.build_from_corpus((eng.numpy() for eng, fr in train_dataset), target_vocab_size = 2**13)\n",
        "french_tokenizer = tfds.deprecated.text.SubwordTextEncoder.build_from_corpus((fr.numpy() for eng, fr in train_dataset), target_vocab_size = 2**13)\n",
        "\n",
        "\n",
        "## Vocabulary size (+2 for start and end)\n",
        "input_vocab_size = english_tokenizer.vocab_size + 2\n",
        "output_vocab_size = french_tokenizer.vocab_size + 2"
      ],
      "execution_count": 9,
      "outputs": []
    },
    {
      "cell_type": "markdown",
      "metadata": {
        "id": "r6iG_HrZG9hL"
      },
      "source": [
        "The test below will tokenize an English sentence into tokens by the `encode` method of the tokenizer. The token will then be decoded back by using the `decode` method. After decoding we should get the original sentence"
      ]
    },
    {
      "cell_type": "code",
      "metadata": {
        "id": "XooacSNgF_uo",
        "outputId": "56284232-b2aa-4632-b860-518a50c66065",
        "colab": {
          "base_uri": "https://localhost:8080/"
        }
      },
      "source": [
        "## Test the tokenization\n",
        "\n",
        "sample_sentence = X_valid[100]\n",
        "\n",
        "encoded_sample_sentence = english_tokenizer.encode(sample_sentence)\n",
        "\n",
        "print(\"input sentence: {}\".format(sample_sentence))\n",
        "print(\"tokens: {}\".format(encoded_sample_sentence))\n",
        "print(\"tokenized sentence: {}\".format(english_tokenizer.decode(encoded_sample_sentence)))\n",
        "print(\"\\n\")\n",
        "\n",
        "print(\"detail of tokenizing:\")\n",
        "for k in encoded_sample_sentence:\n",
        "    print(\"{} ---> {}\".format(k, english_tokenizer.decode([k])))\n",
        "\n",
        "print(\"\\n\")\n",
        "## More sanity check on the first 5 sentences in the training dataset\n",
        "for i in range(5):\n",
        "    print(X_train[i] == english_tokenizer.decode(english_tokenizer.encode(X_train[i])))"
      ],
      "execution_count": 10,
      "outputs": [
        {
          "output_type": "stream",
          "text": [
            "input sentence: the pear is your most loved fruit , but the grapefruit is her most loved .\n",
            "tokens: [7, 107, 1, 31, 15, 27, 16, 2, 8, 7, 92, 1, 34, 15, 89, 3]\n",
            "tokenized sentence: the pear is your most loved fruit , but the grapefruit is her most loved .\n",
            "\n",
            "\n",
            "detail of tokenizing:\n",
            "7 ---> the \n",
            "107 ---> pear \n",
            "1 ---> is \n",
            "31 ---> your \n",
            "15 ---> most \n",
            "27 ---> loved \n",
            "16 ---> fruit\n",
            "2 --->  , \n",
            "8 ---> but \n",
            "7 ---> the \n",
            "92 ---> grapefruit \n",
            "1 ---> is \n",
            "34 ---> her \n",
            "15 ---> most \n",
            "89 ---> loved\n",
            "3 --->  .\n",
            "\n",
            "\n",
            "True\n",
            "True\n",
            "True\n",
            "True\n",
            "True\n"
          ],
          "name": "stdout"
        }
      ]
    },
    {
      "cell_type": "markdown",
      "metadata": {
        "id": "vtH_dC0rHh7V"
      },
      "source": [
        "# The tokenize+pad function\n",
        "\n",
        "The tokenize function takes a list of sentences and its language tokenizer as inputs. It tokenizes the sentences, and add a **start token** and an **end token** in each sentence\n",
        "\n",
        "There are in total N tokens in the tokenizer, with labels from 1 to N-1.\n",
        "\n",
        "We use **N as the start token**, and **N+1 as the end token**.\n",
        "\n",
        "To get N, we use the `vocab_size` attribute of the tokenizer"
      ]
    },
    {
      "cell_type": "code",
      "metadata": {
        "id": "3r7XpTpYtWmE"
      },
      "source": [
        "MAX_LENGTH = 25             # maximum length of the input sentence\n",
        "BUFFER_SIZE = 20000         # the size of the shuffle buffer\n",
        "BATCH_SIZE = 64             # the batch size\n",
        "\n",
        "\n",
        "def tokenize(eng_sentence, fr_sentence):\n",
        "\n",
        "    eng_sentence = [english_tokenizer.vocab_size] + english_tokenizer.encode(eng_sentence.numpy()) + [english_tokenizer.vocab_size+1]\n",
        "    fr_sentence =  [french_tokenizer.vocab_size] + french_tokenizer.encode(fr_sentence.numpy()) + [french_tokenizer.vocab_size+1]\n",
        "\n",
        "    return eng_sentence, fr_sentence\n",
        "\n",
        "\n",
        "def tf_tokenize(eng_sentence, fr_sentence):\n",
        "\n",
        "    res_eng, res_fr = tf.py_function(tokenize, [eng_sentence, fr_sentence], [tf.int64, tf.int64])\n",
        "\n",
        "    res_eng.set_shape([None])\n",
        "    res_fr.set_shape([None])\n",
        "\n",
        "    return res_eng, res_fr\n",
        "\n",
        "\n",
        "def filter_max_length(x, y, max_length = MAX_LENGTH):\n",
        "\n",
        "    return tf.logical_and(tf.size(x) <= max_length, tf.size(y) <= max_length)\n"
      ],
      "execution_count": 11,
      "outputs": []
    },
    {
      "cell_type": "markdown",
      "metadata": {
        "id": "DMwbCsT83T37"
      },
      "source": [
        "## Propress the training data\n",
        "\n",
        "The code below tokenizes, add SOS & EOS, filter out sentences that are too long"
      ]
    },
    {
      "cell_type": "code",
      "metadata": {
        "id": "-OtHHw2KgaXK",
        "outputId": "fe237dbe-01fe-43c9-9b33-6a19ebeea43d",
        "colab": {
          "base_uri": "https://localhost:8080/"
        }
      },
      "source": [
        "# tokenize the training dataset\n",
        "train_dataset = train_dataset.map(tf_tokenize)\n",
        "# remove sentences that are too long\n",
        "train_dataset = train_dataset.filter(filter_max_length)\n",
        "# cache the data to memory\n",
        "train_dataset = train_dataset.cache()\n",
        "# shuffle\n",
        "train_dataset = train_dataset.shuffle(BUFFER_SIZE)\n",
        "# padding\n",
        "train_dataset = train_dataset.padded_batch(BATCH_SIZE, padded_shapes = ([MAX_LENGTH], [MAX_LENGTH]))\n",
        "# prefetching\n",
        "train_dataset = train_dataset.prefetch(tf.data.experimental.AUTOTUNE)\n",
        "\n",
        "\n",
        "# see a batch\n",
        "eng_batch, fr_batch = next(iter(train_dataset))\n",
        "eng_batch, fr_batch"
      ],
      "execution_count": 12,
      "outputs": [
        {
          "output_type": "execute_result",
          "data": {
            "text/plain": [
              "(<tf.Tensor: shape=(64, 25), dtype=int64, numpy=\n",
              " array([[528,  23,   1, ...,   0,   0,   0],\n",
              "        [528,  21,   1, ...,   0,   0,   0],\n",
              "        [528,  33,  15, ...,   0,   0,   0],\n",
              "        ...,\n",
              "        [528,   7,  19, ...,   0,   0,   0],\n",
              "        [528,  21,   1, ...,   0,   0,   0],\n",
              "        [528,  24,   1, ...,   0,   0,   0]])>,\n",
              " <tf.Tensor: shape=(64, 25), dtype=int64, numpy=\n",
              " array([[717,  64,   1, ...,   0,   0,   0],\n",
              "        [717,  31,   1, ...,   0,   0,   0],\n",
              "        [717,  22, 121, ...,   0,   0,   0],\n",
              "        ...,\n",
              "        [717,   6,  32, ...,   0,   0,   0],\n",
              "        [717, 569,  10, ...,   0,   0,   0],\n",
              "        [717,   9,  35, ...,   0,   0,   0]])>)"
            ]
          },
          "metadata": {
            "tags": []
          },
          "execution_count": 12
        }
      ]
    },
    {
      "cell_type": "markdown",
      "metadata": {
        "id": "BGEuKPh0TTe9"
      },
      "source": [
        "## Preprocess the validation data"
      ]
    },
    {
      "cell_type": "code",
      "metadata": {
        "id": "v80aQfZbTW4w",
        "outputId": "5fcb6cac-ba34-41ac-a52b-9cc6d4938f92",
        "colab": {
          "base_uri": "https://localhost:8080/"
        }
      },
      "source": [
        "# tokenize the valid dataset\n",
        "valid_dataset = valid_dataset.map(tf_tokenize)\n",
        "# remove sentences that are too long\n",
        "valid_dataset = valid_dataset.filter(filter_max_length)\n",
        "# cache the data to memory\n",
        "valid_dataset = valid_dataset.cache()\n",
        "# shuffle\n",
        "valid_dataset = valid_dataset.shuffle(BUFFER_SIZE)\n",
        "# padding\n",
        "valid_dataset = valid_dataset.padded_batch(BATCH_SIZE, padded_shapes = ([MAX_LENGTH], [MAX_LENGTH]))\n",
        "# prefetching\n",
        "valid_dataset = valid_dataset.prefetch(tf.data.experimental.AUTOTUNE)\n",
        "\n",
        "# see a batch\n",
        "eng_batch, fr_batch = next(iter(valid_dataset))\n",
        "eng_batch, fr_batch"
      ],
      "execution_count": 13,
      "outputs": [
        {
          "output_type": "execute_result",
          "data": {
            "text/plain": [
              "(<tf.Tensor: shape=(64, 25), dtype=int64, numpy=\n",
              " array([[528,  24,   1, ...,   0,   0,   0],\n",
              "        [528,  24,   1, ...,   0,   0,   0],\n",
              "        [528,  30,  72, ...,   0,   0,   0],\n",
              "        ...,\n",
              "        [528,  28,  73, ...,   0,   0,   0],\n",
              "        [528,  20,   1, ...,   0,   0,   0],\n",
              "        [528,  26,   1, ...,   0,   0,   0]])>,\n",
              " <tf.Tensor: shape=(64, 25), dtype=int64, numpy=\n",
              " array([[717,  35,   1, ...,   0,   0,   0],\n",
              "        [717,   9,  35, ...,   0,   0,   0],\n",
              "        [717,   5,  29, ...,   0,   0,   0],\n",
              "        ...,\n",
              "        [717,  30,  29, ...,   0,   0,   0],\n",
              "        [717,  34,   1, ...,   0,   0,   0],\n",
              "        [717,  38,   1, ...,   0,   0,   0]])>)"
            ]
          },
          "metadata": {
            "tags": []
          },
          "execution_count": 13
        }
      ]
    },
    {
      "cell_type": "markdown",
      "metadata": {
        "id": "NYIaZo28ZFm4"
      },
      "source": [
        "## Preprocess the test data"
      ]
    },
    {
      "cell_type": "code",
      "metadata": {
        "id": "QfjaLce7ZHf6",
        "outputId": "3f64babc-d705-4d4a-81d5-0580c509117a",
        "colab": {
          "base_uri": "https://localhost:8080/"
        }
      },
      "source": [
        "# tokenize the test dataset\n",
        "test_dataset = test_dataset.map(tf_tokenize)\n",
        "# remove sentences that are too long\n",
        "test_dataset = test_dataset.filter(filter_max_length)\n",
        "# cache the data to memory\n",
        "test_dataset = test_dataset.cache()\n",
        "# shuffle\n",
        "test_dataset = test_dataset.shuffle(BUFFER_SIZE)\n",
        "# padding\n",
        "test_dataset = test_dataset.padded_batch(1, padded_shapes = ([MAX_LENGTH], [MAX_LENGTH]))\n",
        "# prefetching\n",
        "test_dataset = test_dataset.prefetch(tf.data.experimental.AUTOTUNE)\n",
        "\n",
        "# see a batch\n",
        "eng_batch, fr_batch = next(iter(test_dataset))\n",
        "eng_batch, fr_batch"
      ],
      "execution_count": 14,
      "outputs": [
        {
          "output_type": "execute_result",
          "data": {
            "text/plain": [
              "(<tf.Tensor: shape=(1, 25), dtype=int64, numpy=\n",
              " array([[528,  30,  73,  84,   2,  77,   2,   9,  79,   3, 529,   0,   0,\n",
              "           0,   0,   0,   0,   0,   0,   0,   0,   0,   0,   0,   0]])>,\n",
              " <tf.Tensor: shape=(1, 25), dtype=int64, numpy=\n",
              " array([[717,   5, 571, 500,  29,   6,  79,   3,   6,  63,   8,   6,  78,\n",
              "           2, 718,   0,   0,   0,   0,   0,   0,   0,   0,   0,   0]])>)"
            ]
          },
          "metadata": {
            "tags": []
          },
          "execution_count": 14
        }
      ]
    },
    {
      "cell_type": "markdown",
      "metadata": {
        "id": "I09zUHew54Hp"
      },
      "source": [
        "## Encoder-Decoder Architecture\n",
        "\n",
        "The NN architecture contains:\n",
        "\n",
        "1. Embedding\n",
        "2. Bidirectional GRU\n",
        "3. RepeatVector layer\n",
        "4. Birirectional GRU\n",
        "5. TimeDistributed layer\n",
        "6. Softmax activation"
      ]
    },
    {
      "cell_type": "code",
      "metadata": {
        "id": "EKslJe7j42Uk"
      },
      "source": [
        "class EncoderDecoder(tf.keras.layers.Layer):\n",
        "\n",
        "    def __init__(self, rnn_class, output_dim, embedding_dim, encoder_units, decoder_units, input_vocab_size, output_vocab_size):\n",
        "\n",
        "        super(EncoderDecoder, self).__init__()\n",
        "\n",
        "        self.Embedding = Embedding(input_vocab_size, embedding_dim)\n",
        "\n",
        "        if rnn_class.upper() == \"GRU\":\n",
        "            self.Bidirectional_encoder = Bidirectional(GRU(encoder_units))\n",
        "            self.Bidirectional_decoder = Bidirectional(GRU(decoder_units, return_sequences = True))\n",
        "        elif rnn_class.upper() == \"LSTM\":\n",
        "            self.Bidirectional_encoder = Bidirectional(LSTM(encoder_units))\n",
        "            self.Bidirectional_decoder = Bidirectional(LSTM(decoder_units, return_sequences = True))\n",
        "        \n",
        "        self.RepeatVector = RepeatVector(output_dim)\n",
        "\n",
        "        self.TimeDistributed = TimeDistributed(Dense(output_vocab_size))\n",
        "\n",
        "        self.Activation = Activation('softmax')\n",
        "\n",
        "\n",
        "    def call(self, x):\n",
        "\n",
        "        x = self.Embedding(x)\n",
        "        x = self.Bidirectional_encoder(x)\n",
        "        x = self.RepeatVector(x)\n",
        "        x = self.Bidirectional_decoder(x)\n",
        "        x = self.TimeDistributed(x)\n",
        "        y = self.Activation(x)\n",
        "\n",
        "        return y"
      ],
      "execution_count": 15,
      "outputs": []
    },
    {
      "cell_type": "markdown",
      "metadata": {
        "id": "S3g_iCVFnfzc"
      },
      "source": [
        "## Optimizer and Loss function"
      ]
    },
    {
      "cell_type": "code",
      "metadata": {
        "id": "ns5R41b0nlKz"
      },
      "source": [
        "optimizer = tf.keras.optimizers.Adam(learning_rate = 1e-3, beta_1 = 0.9, beta_2 = 0.98, epsilon = 1e-9)\n",
        "\n",
        "loss_criterion = tf.keras.losses.SparseCategoricalCrossentropy(name = 'sparse_categorical_crossentropy')"
      ],
      "execution_count": 16,
      "outputs": []
    },
    {
      "cell_type": "markdown",
      "metadata": {
        "id": "vw69nL74yKFc"
      },
      "source": [
        "# Training"
      ]
    },
    {
      "cell_type": "code",
      "metadata": {
        "id": "hMGoQLgHylnC"
      },
      "source": [
        "train_step_signature = [tf.TensorSpec(shape=(None, None), dtype = tf.int64), tf.TensorSpec(shape=(None, None), dtype = tf.int64)]\n",
        "\n",
        "@tf.function(input_signature = train_step_signature)\n",
        "def train_step(input, target):\n",
        "\n",
        "    with tf.GradientTape() as tape:\n",
        "\n",
        "        preds = translator(input)\n",
        "\n",
        "        loss = loss_criterion(target, preds)\n",
        "\n",
        "    gradients = tape.gradient(loss, translator.trainable_variables)    \n",
        "    optimizer.apply_gradients(zip(gradients, translator.trainable_variables))\n",
        "\n",
        "    train_loss(loss)\n",
        "    train_acc(target, preds)\n"
      ],
      "execution_count": 17,
      "outputs": []
    },
    {
      "cell_type": "code",
      "metadata": {
        "id": "sl5hYESKOxAd"
      },
      "source": [
        "valid_step_signature = [tf.TensorSpec(shape=(None, None), dtype = tf.int64), tf.TensorSpec(shape=(None, None), dtype = tf.int64)]\n",
        "\n",
        "@tf.function(input_signature = valid_step_signature)\n",
        "def valid_step(input, target):\n",
        "\n",
        "    preds = translator(input, training = False)\n",
        "\n",
        "    loss = loss_criterion(target, preds)\n",
        "\n",
        "    valid_loss(loss)\n",
        "    valid_acc(target, preds)"
      ],
      "execution_count": 18,
      "outputs": []
    },
    {
      "cell_type": "code",
      "metadata": {
        "id": "1uBpS6CNy6y6",
        "outputId": "ec6c6e73-f643-4487-ce74-49fadebcabd2",
        "colab": {
          "base_uri": "https://localhost:8080/"
        }
      },
      "source": [
        "import time\n",
        "\n",
        "EPOCHS = 20\n",
        "\n",
        "train_loss_history = []\n",
        "valid_loss_history = []\n",
        "\n",
        "\n",
        "## Create the translator\n",
        "translator = EncoderDecoder(rnn_class = 'GRU', output_dim = MAX_LENGTH, embedding_dim = 256, encoder_units = 128, decoder_units = 128, input_vocab_size = input_vocab_size, output_vocab_size = output_vocab_size)\n",
        "\n",
        "## Initialize metrics\n",
        "train_loss = tf.keras.metrics.Mean(name = 'train_loss')\n",
        "train_acc = tf.keras.metrics.SparseCategoricalAccuracy(name = 'train_acc')\n",
        "\n",
        "valid_loss = tf.keras.metrics.Mean(name = 'valid_loss')\n",
        "valid_acc = tf.keras.metrics.SparseCategoricalAccuracy(name = 'valid_acc')\n",
        "\n",
        "\n",
        "for epoch in range(1, EPOCHS+1):\n",
        "\n",
        "    start = time.time()\n",
        "\n",
        "    train_loss.reset_states()\n",
        "    train_acc.reset_states()\n",
        "\n",
        "    \n",
        "\n",
        "    for (batch, (input, target)) in enumerate(train_dataset):\n",
        "\n",
        "        train_step(input, target)\n",
        "        \n",
        "        if batch % 500 == 0:\n",
        "            \n",
        "            for (_, (valid_x, valid_y)) in enumerate(valid_dataset):\n",
        "\n",
        "                valid_step(valid_x, valid_y)\n",
        "\n",
        "\n",
        "            print(\"Epoch {}\\t Batch {}\\t Loss {:.4f}\\t Acc {:.4f}\".format(epoch, batch, train_loss.result(), train_acc.result()))\n",
        "    \n",
        "\n",
        "    print(\"\\n\")\n",
        "    print(\"Epoch {}\\t Loss {:.4f}\\t Acc {:.4f}\\t  Val_Loss {:.4f}\\t Val_Acc {:.4}\\t Time: {:.1f} s\".format(epoch, train_loss.result(), train_acc.result(),\n",
        "                                                                                   valid_loss.result(), valid_acc.result(), time.time() - start))\n",
        "\n",
        "    print(\"\\n\")\n",
        "\n",
        "    train_loss_history.append(train_loss.result())\n",
        "    valid_loss_history.append(valid_loss.result())\n"
      ],
      "execution_count": 19,
      "outputs": [
        {
          "output_type": "stream",
          "text": [
            "Epoch 1\t Batch 0\t Loss 6.5704\t Acc 0.0025\n",
            "Epoch 1\t Batch 500\t Loss 2.1749\t Acc 0.5020\n",
            "Epoch 1\t Batch 1000\t Loss 1.7313\t Acc 0.5758\n",
            "Epoch 1\t Batch 1500\t Loss 1.5061\t Acc 0.6180\n",
            "\n",
            "\n",
            "Epoch 1\t Loss 1.3912\t Acc 0.6406\t  Val_Loss 2.5448\t Val_Acc 0.5786\t Time: 414.98253202438354 s\n",
            "\n",
            "\n",
            "Epoch 2\t Batch 0\t Loss 0.8094\t Acc 0.7469\n",
            "Epoch 2\t Batch 500\t Loss 0.8388\t Acc 0.7555\n",
            "Epoch 2\t Batch 1000\t Loss 0.7943\t Acc 0.7678\n",
            "Epoch 2\t Batch 1500\t Loss 0.7513\t Acc 0.7793\n",
            "\n",
            "\n",
            "Epoch 2\t Loss 0.7238\t Acc 0.7866\t  Val_Loss 1.6576\t Val_Acc 0.6765\t Time: 397.57235074043274 s\n",
            "\n",
            "\n",
            "Epoch 3\t Batch 0\t Loss 0.5517\t Acc 0.8331\n",
            "Epoch 3\t Batch 500\t Loss 0.5507\t Acc 0.8330\n",
            "Epoch 3\t Batch 1000\t Loss 0.5225\t Acc 0.8409\n",
            "Epoch 3\t Batch 1500\t Loss 0.4935\t Acc 0.8496\n",
            "\n",
            "\n",
            "Epoch 3\t Loss 0.4718\t Acc 0.8564\t  Val_Loss 1.2759\t Val_Acc 0.7328\t Time: 402.11424231529236 s\n",
            "\n",
            "\n",
            "Epoch 4\t Batch 0\t Loss 0.3314\t Acc 0.8994\n",
            "Epoch 4\t Batch 500\t Loss 0.3384\t Acc 0.9009\n",
            "Epoch 4\t Batch 1000\t Loss 0.3142\t Acc 0.9090\n",
            "Epoch 4\t Batch 1500\t Loss 0.2941\t Acc 0.9151\n",
            "\n",
            "\n",
            "Epoch 4\t Loss 0.2808\t Acc 0.9192\t  Val_Loss 1.0352\t Val_Acc 0.7772\t Time: 405.9028959274292 s\n",
            "\n",
            "\n",
            "Epoch 5\t Batch 0\t Loss 0.2070\t Acc 0.9194\n",
            "Epoch 5\t Batch 500\t Loss 0.2092\t Acc 0.9403\n",
            "Epoch 5\t Batch 1000\t Loss 0.2020\t Acc 0.9423\n",
            "Epoch 5\t Batch 1500\t Loss 0.1920\t Acc 0.9449\n",
            "\n",
            "\n",
            "Epoch 5\t Loss 0.1871\t Acc 0.9461\t  Val_Loss 0.8680\t Val_Acc 0.8105\t Time: 405.31859493255615 s\n",
            "\n",
            "\n",
            "Epoch 6\t Batch 0\t Loss 0.1072\t Acc 0.9644\n",
            "Epoch 6\t Batch 500\t Loss 0.1577\t Acc 0.9538\n",
            "Epoch 6\t Batch 1000\t Loss 0.1518\t Acc 0.9555\n",
            "Epoch 6\t Batch 1500\t Loss 0.1479\t Acc 0.9567\n",
            "\n",
            "\n",
            "Epoch 6\t Loss 0.1439\t Acc 0.9578\t  Val_Loss 0.7500\t Val_Acc 0.8344\t Time: 404.6233940124512 s\n",
            "\n",
            "\n",
            "Epoch 7\t Batch 0\t Loss 0.2507\t Acc 0.9319\n",
            "Epoch 7\t Batch 500\t Loss 0.1260\t Acc 0.9630\n",
            "Epoch 7\t Batch 1000\t Loss 0.1237\t Acc 0.9637\n",
            "Epoch 7\t Batch 1500\t Loss 0.1209\t Acc 0.9644\n",
            "\n",
            "\n",
            "Epoch 7\t Loss 0.1188\t Acc 0.9649\t  Val_Loss 0.6616\t Val_Acc 0.8527\t Time: 399.6648075580597 s\n",
            "\n",
            "\n",
            "Epoch 8\t Batch 0\t Loss 0.1289\t Acc 0.9631\n",
            "Epoch 8\t Batch 500\t Loss 0.1087\t Acc 0.9675\n",
            "Epoch 8\t Batch 1000\t Loss 0.1065\t Acc 0.9685\n",
            "Epoch 8\t Batch 1500\t Loss 0.1046\t Acc 0.9690\n",
            "\n",
            "\n",
            "Epoch 8\t Loss 0.1033\t Acc 0.9695\t  Val_Loss 0.5939\t Val_Acc 0.8669\t Time: 385.5493965148926 s\n",
            "\n",
            "\n",
            "Epoch 9\t Batch 0\t Loss 0.0437\t Acc 0.9881\n",
            "Epoch 9\t Batch 500\t Loss 0.0948\t Acc 0.9716\n",
            "Epoch 9\t Batch 1000\t Loss 0.0941\t Acc 0.9721\n",
            "Epoch 9\t Batch 1500\t Loss 0.0919\t Acc 0.9728\n",
            "\n",
            "\n",
            "Epoch 9\t Loss 0.0908\t Acc 0.9731\t  Val_Loss 0.5398\t Val_Acc 0.8783\t Time: 368.52276492118835 s\n",
            "\n",
            "\n",
            "Epoch 10\t Batch 0\t Loss 0.1000\t Acc 0.9675\n",
            "Epoch 10\t Batch 500\t Loss 0.0854\t Acc 0.9747\n",
            "Epoch 10\t Batch 1000\t Loss 0.0843\t Acc 0.9751\n",
            "Epoch 10\t Batch 1500\t Loss 0.0831\t Acc 0.9754\n",
            "\n",
            "\n",
            "Epoch 10\t Loss 0.0826\t Acc 0.9755\t  Val_Loss 0.4963\t Val_Acc 0.8875\t Time: 372.172030210495 s\n",
            "\n",
            "\n",
            "Epoch 11\t Batch 0\t Loss 0.0313\t Acc 0.9931\n",
            "Epoch 11\t Batch 500\t Loss 0.0773\t Acc 0.9767\n",
            "Epoch 11\t Batch 1000\t Loss 0.0776\t Acc 0.9765\n",
            "Epoch 11\t Batch 1500\t Loss 0.0758\t Acc 0.9771\n",
            "\n",
            "\n",
            "Epoch 11\t Loss 0.0749\t Acc 0.9774\t  Val_Loss 0.4602\t Val_Acc 0.8952\t Time: 365.8651452064514 s\n",
            "\n",
            "\n",
            "Epoch 12\t Batch 0\t Loss 0.0901\t Acc 0.9731\n",
            "Epoch 12\t Batch 500\t Loss 0.0707\t Acc 0.9788\n",
            "Epoch 12\t Batch 1000\t Loss 0.0706\t Acc 0.9791\n",
            "Epoch 12\t Batch 1500\t Loss 0.0704\t Acc 0.9791\n",
            "\n",
            "\n",
            "Epoch 12\t Loss 0.0692\t Acc 0.9794\t  Val_Loss 0.4294\t Val_Acc 0.9018\t Time: 367.9300787448883 s\n",
            "\n",
            "\n",
            "Epoch 13\t Batch 0\t Loss 0.0796\t Acc 0.9756\n",
            "Epoch 13\t Batch 500\t Loss 0.0645\t Acc 0.9809\n",
            "Epoch 13\t Batch 1000\t Loss 0.0640\t Acc 0.9810\n",
            "Epoch 13\t Batch 1500\t Loss 0.0638\t Acc 0.9811\n",
            "\n",
            "\n",
            "Epoch 13\t Loss 0.0635\t Acc 0.9812\t  Val_Loss 0.4031\t Val_Acc 0.9075\t Time: 360.78499841690063 s\n",
            "\n",
            "\n",
            "Epoch 14\t Batch 0\t Loss 0.0626\t Acc 0.9825\n",
            "Epoch 14\t Batch 500\t Loss 0.0601\t Acc 0.9822\n",
            "Epoch 14\t Batch 1000\t Loss 0.0613\t Acc 0.9820\n",
            "Epoch 14\t Batch 1500\t Loss 0.0608\t Acc 0.9821\n",
            "\n",
            "\n",
            "Epoch 14\t Loss 0.0598\t Acc 0.9823\t  Val_Loss 0.3804\t Val_Acc 0.9125\t Time: 389.4016070365906 s\n",
            "\n",
            "\n",
            "Epoch 15\t Batch 0\t Loss 0.1359\t Acc 0.9812\n",
            "Epoch 15\t Batch 500\t Loss 0.0559\t Acc 0.9835\n",
            "Epoch 15\t Batch 1000\t Loss 0.0563\t Acc 0.9834\n",
            "Epoch 15\t Batch 1500\t Loss 0.0555\t Acc 0.9836\n",
            "\n",
            "\n",
            "Epoch 15\t Loss 0.0551\t Acc 0.9836\t  Val_Loss 0.3608\t Val_Acc 0.9168\t Time: 400.9019958972931 s\n",
            "\n",
            "\n",
            "Epoch 16\t Batch 0\t Loss 0.0812\t Acc 0.9769\n",
            "Epoch 16\t Batch 500\t Loss 0.0542\t Acc 0.9838\n",
            "Epoch 16\t Batch 1000\t Loss 0.0540\t Acc 0.9839\n",
            "Epoch 16\t Batch 1500\t Loss 0.0531\t Acc 0.9842\n",
            "\n",
            "\n",
            "Epoch 16\t Loss 0.0528\t Acc 0.9843\t  Val_Loss 0.3435\t Val_Acc 0.9206\t Time: 403.75023007392883 s\n",
            "\n",
            "\n",
            "Epoch 17\t Batch 0\t Loss 0.0287\t Acc 0.9906\n",
            "Epoch 17\t Batch 500\t Loss 0.0513\t Acc 0.9847\n",
            "Epoch 17\t Batch 1000\t Loss 0.0511\t Acc 0.9848\n",
            "Epoch 17\t Batch 1500\t Loss 0.0507\t Acc 0.9850\n",
            "\n",
            "\n",
            "Epoch 17\t Loss 0.0503\t Acc 0.9851\t  Val_Loss 0.3281\t Val_Acc 0.9240\t Time: 396.2646105289459 s\n",
            "\n",
            "\n",
            "Epoch 18\t Batch 0\t Loss 0.0662\t Acc 0.9769\n",
            "Epoch 18\t Batch 500\t Loss 0.0496\t Acc 0.9853\n",
            "Epoch 18\t Batch 1000\t Loss 0.0489\t Acc 0.9856\n",
            "Epoch 18\t Batch 1500\t Loss 0.0488\t Acc 0.9857\n",
            "\n",
            "\n",
            "Epoch 18\t Loss 0.0485\t Acc 0.9858\t  Val_Loss 0.3145\t Val_Acc 0.9271\t Time: 393.1777832508087 s\n",
            "\n",
            "\n",
            "Epoch 19\t Batch 0\t Loss 0.1033\t Acc 0.9731\n",
            "Epoch 19\t Batch 500\t Loss 0.0468\t Acc 0.9860\n",
            "Epoch 19\t Batch 1000\t Loss 0.0476\t Acc 0.9860\n",
            "Epoch 19\t Batch 1500\t Loss 0.0466\t Acc 0.9863\n",
            "\n",
            "\n",
            "Epoch 19\t Loss 0.0461\t Acc 0.9864\t  Val_Loss 0.3025\t Val_Acc 0.9297\t Time: 378.56467628479004 s\n",
            "\n",
            "\n",
            "Epoch 20\t Batch 0\t Loss 0.1403\t Acc 0.9656\n",
            "Epoch 20\t Batch 500\t Loss 0.0440\t Acc 0.9868\n",
            "Epoch 20\t Batch 1000\t Loss 0.0450\t Acc 0.9867\n",
            "Epoch 20\t Batch 1500\t Loss 0.0445\t Acc 0.9869\n",
            "\n",
            "\n",
            "Epoch 20\t Loss 0.0444\t Acc 0.9869\t  Val_Loss 0.2915\t Val_Acc 0.9322\t Time: 379.27573251724243 s\n",
            "\n",
            "\n"
          ],
          "name": "stdout"
        }
      ]
    },
    {
      "cell_type": "code",
      "metadata": {
        "id": "6CLJYlQcW2Cw",
        "outputId": "4ec4e9e8-bac7-4986-84f5-4fa2a2365f76",
        "colab": {
          "base_uri": "https://localhost:8080/",
          "height": 513
        }
      },
      "source": [
        "## Plot training and validation loss\n",
        "\n",
        "plt.figure(figsize = (10, 8))\n",
        "plt.plot(range(1, EPOCHS+1), train_loss_history, 'b', label = \"Train\")\n",
        "plt.plot(range(1, EPOCHS+1), valid_loss_history, 'r', label = \"Validation\")\n",
        "plt.xlabel(\"Epochs\")\n",
        "plt.xticks(range(0, 21, 2))\n",
        "plt.ylabel(\"Loss\")\n",
        "plt.title(\"Training and Validation Loss\")\n",
        "plt.legend()\n",
        "plt.show()"
      ],
      "execution_count": 87,
      "outputs": [
        {
          "output_type": "display_data",
          "data": {
            "image/png": "[encoded data removed]",
            "text/plain": [
              "<Figure size 720x576 with 1 Axes>"
            ]
          },
          "metadata": {
            "tags": [],
            "needs_background": "light"
          }
        }
      ]
    },
    {
      "cell_type": "markdown",
      "metadata": {
        "id": "2ROSNAfLnEXX"
      },
      "source": [
        "# Model Evaluation"
      ]
    },
    {
      "cell_type": "markdown",
      "metadata": {
        "id": "ckzpHYbeXiqb"
      },
      "source": [
        "## Bleu score"
      ]
    },
    {
      "cell_type": "code",
      "metadata": {
        "id": "SGikTx8iYJlD"
      },
      "source": [
        "from nltk.translate.bleu_score import sentence_bleu, SmoothingFunction"
      ],
      "execution_count": 59,
      "outputs": []
    },
    {
      "cell_type": "code",
      "metadata": {
        "id": "szW_iu5BYNUI",
        "outputId": "51e2fdb4-996b-44f2-91e8-45e6703185b9",
        "colab": {
          "base_uri": "https://localhost:8080/"
        }
      },
      "source": [
        "## Evaluation\n",
        "\n",
        "# The test dataset has 10,000 sentence pairs\n",
        "\n",
        "test_bleu_score = 0\n",
        "\n",
        "smoothing_func = SmoothingFunction()\n",
        "\n",
        "test_acc_func = tf.keras.metrics.SparseCategoricalAccuracy()\n",
        "\n",
        "for (test_n, (test_x, test_y)) in enumerate(test_dataset):\n",
        "\n",
        "    # prediction (logits)\n",
        "    pred = translator(test_x, training = False)\n",
        "\n",
        "    # Accuracy\n",
        "    test_acc_func(test_y, pred)\n",
        "\n",
        "    # Squeeze for further processing\n",
        "    pred = tf.squeeze(pred).numpy()\n",
        "\n",
        "    # prediction (tokens)\n",
        "    pred_tokens = tf.math.argmax(pred, axis = 1)\n",
        "\n",
        "    # convert to a list of words\n",
        "    translation = french_tokenizer.decode([w for w in pred_tokens if w < french_tokenizer.vocab_size and w != 0]).split()\n",
        "\n",
        "    # true translation\n",
        "    references = french_tokenizer.decode([w for w in tf.squeeze(test_y).numpy() if w < french_tokenizer.vocab_size and w != 0]).split()\n",
        "\n",
        "    # BLEU\n",
        "    test_bleu_score += sentence_bleu(references = [references], hypothesis = translation, smoothing_function = smoothing_func.method1)\n",
        "\n",
        "    \n",
        "\n",
        "    if (test_n + 1) % 1000 == 0:\n",
        "        print(\"Test data loaded ({}/10000)\".format(test_n+1))\n",
        "\n",
        "\n",
        "print(\"Test data n = {}\".format(test_n))\n",
        "print(\"Test BLEU score = {:4f}\".format(test_bleu_score/(test_n+1)))\n",
        "print(\"Test acc = {:4f}\".format(test_acc_func.result()))"
      ],
      "execution_count": 81,
      "outputs": [
        {
          "output_type": "stream",
          "text": [
            "Test data loaded (1000/10000)\n",
            "Test data loaded (2000/10000)\n",
            "Test data loaded (3000/10000)\n",
            "Test data loaded (4000/10000)\n",
            "Test data loaded (5000/10000)\n",
            "Test data loaded (6000/10000)\n",
            "Test data loaded (7000/10000)\n",
            "Test data loaded (8000/10000)\n",
            "Test data loaded (9000/10000)\n",
            "Test data n = 9995\n",
            "Test BLEU score = 0.955263\n",
            "Test acc = 0.980936\n"
          ],
          "name": "stdout"
        }
      ]
    },
    {
      "cell_type": "markdown",
      "metadata": {
        "id": "c-ZqRRWpcK0G"
      },
      "source": [
        "# Translation Examples"
      ]
    },
    {
      "cell_type": "code",
      "metadata": {
        "id": "RgTT7M9UnsyM",
        "outputId": "ce982e11-02ed-4989-8133-88900382d938",
        "colab": {
          "base_uri": "https://localhost:8080/"
        }
      },
      "source": [
        "## Sample from the test set randomly and translate\n",
        "\n",
        "import random\n",
        "\n",
        "random_index = random.randint(0, len(X_test))\n",
        "\n",
        "x = [X_test[random_index]]\n",
        "y = [Y_test[random_index]]\n",
        "\n",
        "sample_dataset = tf.data.Dataset.from_tensor_slices((x, y))\n",
        "\n",
        "\n",
        "# tokenize the test dataset\n",
        "sample_dataset = sample_dataset.map(tf_tokenize)\n",
        "# remove sentences that are too long\n",
        "sample_dataset = sample_dataset.filter(filter_max_length)\n",
        "# cache the data to memory\n",
        "sample_dataset = sample_dataset.cache()\n",
        "# shuffle\n",
        "sample_dataset = sample_dataset.shuffle(BUFFER_SIZE)\n",
        "# padding\n",
        "sample_dataset = sample_dataset.padded_batch(1, padded_shapes = ([MAX_LENGTH], [MAX_LENGTH]))\n",
        "# prefetching\n",
        "sample_dataset = sample_dataset.prefetch(tf.data.experimental.AUTOTUNE)\n",
        "\n",
        "\n",
        "for sample_x, sample_y in sample_dataset:\n",
        "\n",
        "    # Decode sample_x into an English sentence\n",
        "    sample_eng = english_tokenizer.decode([w for w in tf.squeeze(sample_x).numpy() if w < english_tokenizer.vocab_size])\n",
        "\n",
        "    # Decode sample_y into a french sentence\n",
        "    sample_fr = french_tokenizer.decode([w for w in tf.squeeze(sample_y).numpy() if w < french_tokenizer.vocab_size])\n",
        "\n",
        "    # Use translator to translate sample_x\n",
        "    pred = tf.squeeze(translator(sample_x, training = False)).numpy()\n",
        "    pred_tokens = tf.math.argmax(pred, axis = 1)\n",
        "    translation = french_tokenizer.decode([w for w in pred_tokens if w < french_tokenizer.vocab_size])\n",
        "\n",
        "    print(\"[eng]\\n{}\".format(sample_eng))\n",
        "    print(\"[fr]\\n{}\".format(sample_fr))\n",
        "    print(\"[translation]\\n{}\".format(translation))\n"
      ],
      "execution_count": 85,
      "outputs": [
        {
          "output_type": "stream",
          "text": [
            "[eng]\n",
            "the lime is my most loved fruit , but the peach is their most loved .\n",
            "[fr]\n",
            "la chaux est mon fruit le plus aimé , mais la pêche est leur plus aimé.\n",
            "[translation]\n",
            "la chaux est mon fruit le plus aimé , mais la pêche est leur plus aimé.\n"
          ],
          "name": "stdout"
        }
      ]
    }
  ]
}